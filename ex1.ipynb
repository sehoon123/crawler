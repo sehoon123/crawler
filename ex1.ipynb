{
 "cells": [
  {
   "attachments": {},
   "cell_type": "markdown",
   "metadata": {},
   "source": [
    "\n",
    "## breast-cancer1.csv와 breast-cancer2.csv 데이터를 로드하여 각각 dataset1, dataset2에 저장한 후, 아래 물음에 답하시오 (1~2)"
   ]
  },
  {
   "cell_type": "code",
   "execution_count": 1,
   "metadata": {},
   "outputs": [],
   "source": [
    "import pandas as pd\n",
    "\n",
    "# Load the breast-cancer1.csv data\n",
    "dataset1 = pd.read_csv(\"breast-cancer1.csv\")\n",
    "\n",
    "# Load the breast-cancer2.csv data\n",
    "dataset2 = pd.read_csv(\"breast-cancer2.csv\")"
   ]
  },
  {
   "attachments": {},
   "cell_type": "markdown",
   "metadata": {},
   "source": [
    "#### 1. dataset1과 dataset2의 누락데이터 중 산술데이터(float or int)를 해당 열의 평균값으로 대체하시오.\n"
   ]
  },
  {
   "cell_type": "code",
   "execution_count": 2,
   "metadata": {},
   "outputs": [
    {
     "name": "stderr",
     "output_type": "stream",
     "text": [
      "Z:\\TEMP\\ipykernel_7064\\1834939223.py:2: FutureWarning: The default value of numeric_only in DataFrame.mean is deprecated. In a future version, it will default to False. In addition, specifying 'numeric_only=None' is deprecated. Select only valid columns or specify the value of numeric_only to silence this warning.\n",
      "  dataset1 = dataset1.fillna(dataset1.mean())\n",
      "Z:\\TEMP\\ipykernel_7064\\1834939223.py:5: FutureWarning: The default value of numeric_only in DataFrame.mean is deprecated. In a future version, it will default to False. In addition, specifying 'numeric_only=None' is deprecated. Select only valid columns or specify the value of numeric_only to silence this warning.\n",
      "  dataset2 = dataset2.fillna(dataset2.mean())\n"
     ]
    }
   ],
   "source": [
    "# Replace missing data in dataset1 with the mean value of each column\n",
    "dataset1 = dataset1.fillna(dataset1.mean())\n",
    "\n",
    "# Replace missing data in dataset2 with the mean value of each column\n",
    "dataset2 = dataset2.fillna(dataset2.mean())"
   ]
  },
  {
   "attachments": {},
   "cell_type": "markdown",
   "metadata": {},
   "source": [
    "### dataset2의 breast-quad 열의 값이 누락된 행을 삭제하고, 남아 있는 누락 데이터의 경우, 해당 열에서 가장 많이 나타난 값으로 대체하시오."
   ]
  },
  {
   "cell_type": "code",
   "execution_count": 3,
   "metadata": {},
   "outputs": [],
   "source": [
    "# drop the missing data in breast-quad column of dataset2\n",
    "dataset2 = dataset2.dropna(subset=['breast-quad'])\n",
    "\n",
    "# Get the value that appears most in the breast-quad column\n",
    "most_common_value = dataset2['breast-quad'].value_counts().idxmax()\n",
    "\n",
    "# Replace missing data in breast-quad column with the most common value\n",
    "dataset2['breast-quad'] = dataset2['breast-quad'].fillna(most_common_value)"
   ]
  }
 ],
 "metadata": {
  "kernelspec": {
   "display_name": "Python 3",
   "language": "python",
   "name": "python3"
  },
  "language_info": {
   "codemirror_mode": {
    "name": "ipython",
    "version": 3
   },
   "file_extension": ".py",
   "mimetype": "text/x-python",
   "name": "python",
   "nbconvert_exporter": "python",
   "pygments_lexer": "ipython3",
   "version": "3.11.1"
  },
  "orig_nbformat": 4,
  "vscode": {
   "interpreter": {
    "hash": "d768fe276b38269e9221893d6ea045768cf9d3d62afc804e36fc66f103aa80a8"
   }
  }
 },
 "nbformat": 4,
 "nbformat_minor": 2
}
