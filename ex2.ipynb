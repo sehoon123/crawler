{
 "cells": [
  {
   "attachments": {},
   "cell_type": "markdown",
   "metadata": {},
   "source": [
    "\n",
    "# forestfires.csv 파일을 로드하여 forestfires에 저장한 후, 아래 물음에 답하시오."
   ]
  },
  {
   "cell_type": "code",
   "execution_count": 1,
   "metadata": {},
   "outputs": [],
   "source": [
    "import pandas as pd\n",
    "\n",
    "forestfires = pd.read_csv(\"forestfires.csv\")"
   ]
  },
  {
   "attachments": {},
   "cell_type": "markdown",
   "metadata": {},
   "source": [
    "### forestfires의 temp열을 크기에 따라 4개의 구간으로 나누고, 각 구간을 임의의 4 종류의 값으로 대체하시오.\n"
   ]
  },
  {
   "cell_type": "code",
   "execution_count": 2,
   "metadata": {},
   "outputs": [],
   "source": [
    "# Create bins for the temp column\n",
    "bins = [min(forestfires['temp']), forestfires['temp'].quantile(0.25), forestfires['temp'].quantile(0.5), forestfires['temp'].quantile(0.75), max(forestfires['temp'])]\n",
    "\n",
    "# Create labels for the bins\n",
    "labels = ['low', 'medium-low', 'medium-high', 'high']\n",
    "\n",
    "# Cut the temp column using the bins and labels\n",
    "forestfires['temp'] = pd.cut(forestfires['temp'], bins=bins, labels=labels)"
   ]
  },
  {
   "attachments": {},
   "cell_type": "markdown",
   "metadata": {},
   "source": [
    "### forestfires month-day 열의 값을 분리한 후, 새로은 month열과 day열을 만들어 분리된 값을 해당 열에 각각 저장하고, month-day열은 삭제하시오."
   ]
  },
  {
   "cell_type": "code",
   "execution_count": 3,
   "metadata": {},
   "outputs": [],
   "source": [
    "# create a new column 'month' and 'day' by splitting 'month-day'\n",
    "forestfires[['month','day']] = forestfires['month-day'].str.split(\"-\",expand=True)\n",
    "\n",
    "# drop the 'month-day' column\n",
    "forestfires = forestfires.drop('month-day', axis=1)"
   ]
  },
  {
   "cell_type": "code",
   "execution_count": 12,
   "metadata": {},
   "outputs": [
    {
     "name": "stdout",
     "output_type": "stream",
     "text": [
      "0      False\n",
      "1      False\n",
      "2       True\n",
      "3      False\n",
      "4       True\n",
      "       ...  \n",
      "512     True\n",
      "513     True\n",
      "514     True\n",
      "515     True\n",
      "516    False\n",
      "Name: day, Length: 517, dtype: bool\n"
     ]
    }
   ],
   "source": [
    "print(forestfires['day'].isin(['sat', 'sun']))"
   ]
  },
  {
   "attachments": {},
   "cell_type": "markdown",
   "metadata": {},
   "source": [
    "### forestfires month 열의 값이 12, 1 또는 2이고, day 열의 값이 sat 또는 sun인 행만 추출하여, winter_weekend 이름의 DataFrame으로 저장하시오"
   ]
  },
  {
   "cell_type": "code",
   "execution_count": 17,
   "metadata": {},
   "outputs": [],
   "source": [
    "import pandas as pd\n",
    "\n",
    "# Assuming your DataFrame is named 'forestfires'\n",
    "\n",
    "# Create a boolean mask for the rows that match the conditions\n",
    "mask = (forestfires['month'].isin([12, 1, 2])) & (forestfires['day'].isin(['sat', 'sun']))\n",
    "\n",
    "# Use the mask to extract the rows and save them as a new DataFrame\n",
    "winter_weekend = forestfires.loc[mask]\n"
   ]
  },
  {
   "attachments": {},
   "cell_type": "markdown",
   "metadata": {},
   "source": [
    "### forestfires day열의 값 별, DC의 평균 값과 area의 합을 보여주는 DataFrame을 출력하시오."
   ]
  },
  {
   "cell_type": "code",
   "execution_count": 18,
   "metadata": {},
   "outputs": [
    {
     "name": "stdout",
     "output_type": "stream",
     "text": [
      "   day    total\n",
      "0  fri  550.844\n",
      "   day       total\n",
      "0  tue  579.265469\n",
      "   day       total\n",
      "0  sat  553.674524\n",
      "   day       total\n",
      "0  sun  557.297158\n",
      "   day       total\n",
      "0  mon  525.354459\n",
      "   day       total\n",
      "0  wed  576.653704\n",
      "   day      total\n",
      "0  thu  599.42459\n"
     ]
    }
   ],
   "source": [
    "# Create an empty dictionary to store the DataFrames for each day\n",
    "day_dfs = {}\n",
    "\n",
    "# Get all unique values in the day column\n",
    "days = forestfires['day'].unique()\n",
    "\n",
    "# Iterate through each unique value in the day column\n",
    "for day in days:\n",
    "    # Filter the original DataFrame to include only rows with the current day\n",
    "    df = forestfires[forestfires['day'] == day]\n",
    "    # Calculate the sum of the mean value of DC and the area\n",
    "    total = df['DC'].mean() + df['area'].mean()\n",
    "    # Create a new DataFrame with the day value and the total\n",
    "    day_df = pd.DataFrame({'day': [day], 'total': [total]})\n",
    "    # Add the DataFrame to the dictionary with the day as the key\n",
    "    day_dfs[day] = day_df\n",
    "    print(day_df)\n"
   ]
  }
 ],
 "metadata": {
  "kernelspec": {
   "display_name": "Python 3",
   "language": "python",
   "name": "python3"
  },
  "language_info": {
   "codemirror_mode": {
    "name": "ipython",
    "version": 3
   },
   "file_extension": ".py",
   "mimetype": "text/x-python",
   "name": "python",
   "nbconvert_exporter": "python",
   "pygments_lexer": "ipython3",
   "version": "3.11.1"
  },
  "orig_nbformat": 4,
  "vscode": {
   "interpreter": {
    "hash": "d768fe276b38269e9221893d6ea045768cf9d3d62afc804e36fc66f103aa80a8"
   }
  }
 },
 "nbformat": 4,
 "nbformat_minor": 2
}
